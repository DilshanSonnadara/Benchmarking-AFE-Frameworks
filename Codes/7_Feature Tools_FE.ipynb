{
 "cells": [
  {
   "cell_type": "markdown",
   "metadata": {},
   "source": [
    "Import Libraries"
   ]
  },
  {
   "cell_type": "code",
   "execution_count": 1,
   "metadata": {},
   "outputs": [],
   "source": [
    "import pickle\n",
    "import featuretools as ft\n",
    "import time\n",
    "import pandas as pd\n",
    "from sklearn.preprocessing import LabelEncoder\n",
    "from featuretools.selection import (\n",
    "    remove_highly_correlated_features,\n",
    "    remove_highly_null_features,\n",
    "    remove_single_value_features,\n",
    ")\n",
    "from sklearn.model_selection import KFold\n",
    "from sklearn.preprocessing import MinMaxScaler\n",
    "import warnings\n",
    "import traceback\n",
    "from Dilshan import DilFeat"
   ]
  },
  {
   "cell_type": "markdown",
   "metadata": {},
   "source": [
    "Get Data"
   ]
  },
  {
   "cell_type": "code",
   "execution_count": 2,
   "metadata": {},
   "outputs": [],
   "source": [
    "# Paths to the pickle files\n",
    "independent_path = '../Data/Cleaned Data/Independent_Data_dictionary.pkl'\n",
    "dependent_path = '../Data/Cleaned Data/Dependent_Data_dictionary.pkl'\n",
    "\n",
    "# Load the data\n",
    "with open(independent_path, 'rb') as f:\n",
    "    Independent_Data = pickle.load(f)\n",
    "\n",
    "with open(dependent_path, 'rb') as f:\n",
    "    Dependent_Data = pickle.load(f)"
   ]
  },
  {
   "cell_type": "markdown",
   "metadata": {},
   "source": [
    "Encode the dependent variable"
   ]
  },
  {
   "cell_type": "code",
   "execution_count": 3,
   "metadata": {},
   "outputs": [],
   "source": [
    "Dependent_Data_Encoded = {}\n",
    "\n",
    "for name, df in Dependent_Data.items():\n",
    "    # Creating a copy of the dataframe to modify\n",
    "    encoded_df = df.copy()\n",
    "    \n",
    "    # Initialize the LabelEncoder\n",
    "    le = LabelEncoder()\n",
    "    \n",
    "    # Iterate through each column in the dataframe\n",
    "    for column in df.columns:\n",
    "        # Encode the column if it is of type 'object' or 'category'\n",
    "        if df[column].dtype == 'object' or df[column].dtype.name == 'category':\n",
    "            # Fit label encoder and return encoded labels\n",
    "            encoded_df[column] = le.fit_transform(df[column])\n",
    "    \n",
    "    # Add the encoded dataframe to the new dictionary\n",
    "    Dependent_Data_Encoded[name] = encoded_df\n",
    "\n",
    "# Now Dependent_Data_Encoded contains all the label-encoded dataframes\n"
   ]
  },
  {
   "cell_type": "markdown",
   "metadata": {},
   "source": [
    "Applying Feature Tools"
   ]
  },
  {
   "cell_type": "code",
   "execution_count": 4,
   "metadata": {},
   "outputs": [],
   "source": [
    "# Suppress warnings for metrics that might be undefined for some classifiers\n",
    "warnings.filterwarnings(\"ignore\")\n",
    "\n",
    "# Initialize cross validator\n",
    "kf = KFold(n_splits=5, shuffle=True, random_state=42)\n",
    "\n",
    "#Initiate the model to normalize data\n",
    "scaler = MinMaxScaler()"
   ]
  },
  {
   "cell_type": "code",
   "execution_count": null,
   "metadata": {},
   "outputs": [],
   "source": [
    "# Instantiate the class\n",
    "dil_feat = DilFeat()\n",
    "\n",
    "# Processing datasets\n",
    "for dataset_name, X in Independent_Data.items():\n",
    "    try:\n",
    "        fold_data = {}  # Dictionary to store fold data\n",
    "        times = []\n",
    "        print(f'Processing dataset: {dataset_name}')\n",
    "        y = Dependent_Data_Encoded[dataset_name]\n",
    "        \n",
    "        fold_count = 1\n",
    "        # Manually handling cross-validation to incorporate FT\n",
    "        for train_index, test_index in kf.split(X):\n",
    "            fold_key = f'fold{fold_count}'\n",
    "            fold_count += 1\n",
    "            X_train, X_test = X.iloc[train_index], X.iloc[test_index]\n",
    "            y_train, y_test = y.iloc[train_index], y.iloc[test_index]\n",
    "            \n",
    "            # FT feature engineering\n",
    "            # Start timing for Feature Tools\n",
    "            start_time = time.time()\n",
    "            # Transform the data\n",
    "            X_train_transformed, X_test_transformed = dil_feat.transform(X_train, X_test)       \n",
    "            # End timing after fitting the model\n",
    "            transform_time = time.time() - start_time\n",
    "            times.append(transform_time)\n",
    "\n",
    "            # Apply normalization on each DataFrame\n",
    "            X_train_transformed = pd.DataFrame(scaler.fit_transform(X_train_transformed), columns=X_train_transformed.columns, index=X_train_transformed.index)\n",
    "            X_test_transformed = pd.DataFrame(scaler.transform(X_test_transformed), columns=X_test_transformed.columns, index=X_test_transformed.index)\n",
    "            \n",
    "            fold_data[fold_key] = {\n",
    "                'Training_Independent': X_train_transformed,\n",
    "                'Training_Dependent': y_train,\n",
    "                'Testing_Independent': X_test_transformed,\n",
    "                'Testing_Dependent': y_test,\n",
    "                'Timing': transform_time\n",
    "            }\n",
    "\n",
    "        # Serialize fold data to a .pkl file\n",
    "        with open(f'../Data/FT/{dataset_name}_fold_data.pkl', 'wb') as file:\n",
    "            pickle.dump(fold_data, file)\n",
    "\n",
    "    except Exception as e:\n",
    "        print(f\"Error processing {dataset_name}: {e}\")\n",
    "        traceback.print_exc()  # This will print the traceback of the exception\n",
    "\n",
    "\n"
   ]
  }
 ],
 "metadata": {
  "kernelspec": {
   "display_name": "Python 3",
   "language": "python",
   "name": "python3"
  },
  "language_info": {
   "codemirror_mode": {
    "name": "ipython",
    "version": 3
   },
   "file_extension": ".py",
   "mimetype": "text/x-python",
   "name": "python",
   "nbconvert_exporter": "python",
   "pygments_lexer": "ipython3",
   "version": "3.13.1"
  }
 },
 "nbformat": 4,
 "nbformat_minor": 2
}
