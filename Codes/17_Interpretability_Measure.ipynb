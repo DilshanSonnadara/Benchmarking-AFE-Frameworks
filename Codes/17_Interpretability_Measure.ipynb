{
 "cells": [
  {
   "cell_type": "markdown",
   "metadata": {},
   "source": [
    "Import the libraries"
   ]
  },
  {
   "cell_type": "code",
   "execution_count": 1,
   "metadata": {},
   "outputs": [],
   "source": [
    "import os\n",
    "import pandas as pd\n",
    "import pickle\n",
    "from sklearn.tree import DecisionTreeClassifier, DecisionTreeRegressor\n",
    "import numpy as np\n",
    "import matplotlib.pyplot as plt"
   ]
  },
  {
   "cell_type": "markdown",
   "metadata": {},
   "source": [
    "Specify the datasets"
   ]
  },
  {
   "cell_type": "code",
   "execution_count": 2,
   "metadata": {},
   "outputs": [],
   "source": [
    "# Define paths and datasets\n",
    "regression_datasets = [ 'fri_c3_1000_50', 'fri_c2_1000_25', 'fri_c4_500_50', 'fri_c4_1000_50', 'fri_c1_1000_25', 'fri_c1_500_50', 'fri_c3_1000_25', 'auto93', 'pyrim', 'autoPrice', 'boston', 'Concrete_Compressive_Strength', 'Auto_MPG', 'Forest Fires', 'Servo', 'Airfoil_Self_Noise', 'Wine_Quality', 'BodyFat', 'California_Housing', 'Quake']\n",
    "multi_class_classification_datasets = ['Balance_Scale', 'Iris']"
   ]
  },
  {
   "cell_type": "markdown",
   "metadata": {},
   "source": [
    "Define a function to find the tree size"
   ]
  },
  {
   "cell_type": "code",
   "execution_count": 3,
   "metadata": {},
   "outputs": [],
   "source": [
    "def load_and_process_pkl_files(base_path, regression_names):\n",
    "    results = []\n",
    "\n",
    "    # List all .pkl files in the directory\n",
    "    for filename in os.listdir(base_path):\n",
    "        if filename.endswith('.pkl'):\n",
    "            # Modify the filename as per thr dataframe name\n",
    "            modified_name = filename[:-14]\n",
    "            \n",
    "            # Load the pickle file\n",
    "            file_path = os.path.join(base_path, filename)\n",
    "            with open(file_path, 'rb') as file:\n",
    "                data = pickle.load(file)\n",
    "\n",
    "            # Initialize list to store sizes of decision trees\n",
    "            tree_sizes = []\n",
    "            \n",
    "            # Iterate over each fold in the loaded data\n",
    "            for key in ['fold1', 'fold2', 'fold3', 'fold4', 'fold5']:\n",
    "                fold_data = data[key]\n",
    "                train_indep_df = fold_data['Training_Independent']\n",
    "                train_dep_df = fold_data['Training_Dependent']\n",
    "\n",
    "                # Determine whether to use a classifier or a regressor\n",
    "                if modified_name not in regression_names:\n",
    "                    model = DecisionTreeClassifier(random_state=42)\n",
    "                else:\n",
    "                    model = DecisionTreeRegressor(random_state=42)\n",
    "                \n",
    "                # Fit the model\n",
    "                model.fit(train_indep_df, train_dep_df)\n",
    "\n",
    "                # Calculate the size of the tree (number of nodes)\n",
    "                tree_size = model.tree_.node_count\n",
    "                tree_sizes.append(tree_size)\n",
    "            \n",
    "            # Calculate the average tree size\n",
    "            avg_tree_size = sum(tree_sizes) / len(tree_sizes)\n",
    "            results.append([modified_name, avg_tree_size])\n",
    "\n",
    "    # Create a DataFrame\n",
    "    df_results = pd.DataFrame(results, columns=['Dataframe', 'Interpretability_Measure'])\n",
    "    return df_results\n"
   ]
  },
  {
   "cell_type": "markdown",
   "metadata": {},
   "source": [
    "Process each of the datasets"
   ]
  },
  {
   "cell_type": "code",
   "execution_count": 4,
   "metadata": {},
   "outputs": [],
   "source": [
    "# Paths to the pickle files\n",
    "Base_path = '../Data/BASIC'\n",
    "BigFeat_path = '../Data/BIGFEAT'\n",
    "AutoFeat_path = '../Data/AUTOFEAT'\n",
    "FT_path = '../Data/FT'\n",
    "Open_path = '../Data/OPENFE'\n",
    "SAFE_path = '../Data/SAFE'\n",
    "\n",
    "#Process the data\n",
    "Base = load_and_process_pkl_files(Base_path, regression_names=regression_datasets)\n",
    "BigFeat = load_and_process_pkl_files(BigFeat_path, regression_names=regression_datasets)\n",
    "AutoFeat = load_and_process_pkl_files(AutoFeat_path, regression_names=regression_datasets)\n",
    "FT = load_and_process_pkl_files(FT_path, regression_names=regression_datasets)\n",
    "Open = load_and_process_pkl_files(Open_path, regression_names=regression_datasets)\n",
    "SAFE = load_and_process_pkl_files(SAFE_path, regression_names=regression_datasets)"
   ]
  },
  {
   "cell_type": "markdown",
   "metadata": {},
   "source": [
    "Renaming the data for concatenation"
   ]
  },
  {
   "cell_type": "code",
   "execution_count": 5,
   "metadata": {},
   "outputs": [],
   "source": [
    "# Assuming BigFeat, AutoFeat, FT, Open, and SAFE are your DataFrames\n",
    "BigFeat.rename(columns={'Interpretability_Measure': 'Interpretability_Measure_BigFeat'}, inplace=True)\n",
    "AutoFeat.rename(columns={'Interpretability_Measure': 'Interpretability_Measure_AutoFeat'}, inplace=True)\n",
    "FT.rename(columns={'Interpretability_Measure': 'Interpretability_Measure_FT'}, inplace=True)\n",
    "Open.rename(columns={'Interpretability_Measure': 'Interpretability_Measure_Open'}, inplace=True)\n",
    "SAFE.rename(columns={'Interpretability_Measure': 'Interpretability_Measure_SAFE'}, inplace=True)"
   ]
  },
  {
   "cell_type": "markdown",
   "metadata": {},
   "source": [
    "Combine the dataframes"
   ]
  },
  {
   "cell_type": "code",
   "execution_count": 12,
   "metadata": {},
   "outputs": [],
   "source": [
    "# Sequentially merge all dataframes on 'Dataframe'\n",
    "merged_df_cols = Base\n",
    "merged_df_cols = pd.merge(merged_df_cols, BigFeat, on=['Dataframe'], how='left')\n",
    "merged_df_cols = pd.merge(merged_df_cols, AutoFeat, on=['Dataframe'], how='left')\n",
    "merged_df_cols = pd.merge(merged_df_cols, FT, on=['Dataframe'], how='left')\n",
    "merged_df_cols = pd.merge(merged_df_cols, Open, on=['Dataframe'], how='left')\n",
    "merged_df_cols = pd.merge(merged_df_cols, SAFE, on=['Dataframe'], how='left')"
   ]
  },
  {
   "cell_type": "markdown",
   "metadata": {},
   "source": [
    "Finding the interpretability scores"
   ]
  },
  {
   "cell_type": "code",
   "execution_count": 14,
   "metadata": {},
   "outputs": [],
   "source": [
    "# Columns to take the inverse of\n",
    "inverse_columns = [\n",
    "    'Interpretability_Measure',\n",
    "    'Interpretability_Measure_BigFeat',\n",
    "    'Interpretability_Measure_AutoFeat',\n",
    "    'Interpretability_Measure_FT',\n",
    "    'Interpretability_Measure_Open',\n",
    "    'Interpretability_Measure_SAFE'\n",
    "]\n",
    "\n",
    "# Calculating the inverse\n",
    "merged_df_cols[inverse_columns] = merged_df_cols[inverse_columns].apply(lambda x: 1 / x)"
   ]
  },
  {
   "cell_type": "code",
   "execution_count": 15,
   "metadata": {},
   "outputs": [],
   "source": [
    "# Normalize values row-wise\n",
    "merged_df_cols[inverse_columns] = merged_df_cols[inverse_columns].apply(lambda x: (x - x.min()) / (x.max() - x.min()), axis=1)"
   ]
  },
  {
   "cell_type": "markdown",
   "metadata": {},
   "source": [
    "Seperate the regression and classification data"
   ]
  },
  {
   "cell_type": "code",
   "execution_count": 35,
   "metadata": {},
   "outputs": [],
   "source": [
    "regression_datasets = [ 'fri_c3_1000_50', 'fri_c2_1000_25', 'fri_c4_500_50', 'fri_c4_1000_50', 'fri_c1_1000_25', 'fri_c1_500_50', 'fri_c3_1000_25', 'auto93', 'pyrim', 'autoPrice', 'boston', 'Concrete_Compressive_Strength', 'Auto_MPG', 'Forest Fires', 'Servo', 'Airfoil_Self_Noise', 'Wine_Quality', 'BodyFat', 'California_Housing', 'Quake']\n",
    "regression_df = merged_df_cols[merged_df_cols['Dataframe'].isin(regression_datasets)]\n",
    "classification_df = merged_df_cols[~merged_df_cols['Dataframe'].isin(regression_datasets)]"
   ]
  },
  {
   "cell_type": "markdown",
   "metadata": {},
   "source": [
    "Plotting the bar chart - Classification"
   ]
  },
  {
   "cell_type": "code",
   "execution_count": 36,
   "metadata": {},
   "outputs": [
    {
     "data": {
      "image/png": "[encoded data removed]",
      "text/plain": [
       "<Figure size 640x480 with 1 Axes>"
      ]
     },
     "metadata": {},
     "output_type": "display_data"
    }
   ],
   "source": [
    "classification_df_cleaned = classification_df.dropna()\n",
    "\n",
    "# Rename the columns\n",
    "classification_df_cleaned.columns = ['Dataframe', 'Base', 'BigFeat', 'AutoFeat', 'FT', 'OpenFE', 'SAFE']\n",
    "\n",
    "# Calculate the mean of the renamed columns\n",
    "averages = classification_df_cleaned[['Base', 'BigFeat', 'AutoFeat', 'FT', 'OpenFE', 'SAFE']].mean()\n",
    "\n",
    "# Multiply the averages by 100\n",
    "averages *= 100\n",
    "\n",
    "# Sort the averages in descending order\n",
    "averages = averages.sort_values(ascending=False)\n",
    "\n",
    "# Plotting\n",
    "fig, ax = plt.subplots()\n",
    "# Set all font sizes to 12\n",
    "plt.rcParams.update({'font.size': 12})\n",
    "averages.plot(kind='bar', ax=ax, color='skyblue')\n",
    "ax.axhline(100, color='gray', linestyle='--')  # Add a dotted line at the 100 mark\n",
    "ax.set_ylabel('Interpretability measure')\n",
    "ax.set_xlabel('AFE Frameworks')\n",
    "plt.xticks(rotation=45)  # Rotate x-axis labels for better readability\n",
    "plt.savefig('../Diagrams/fig20_A.pdf', format='pdf', bbox_inches='tight')\n",
    "plt.show()\n"
   ]
  },
  {
   "cell_type": "markdown",
   "metadata": {},
   "source": [
    "Plotting the bar plot - Regression"
   ]
  },
  {
   "cell_type": "code",
   "execution_count": 37,
   "metadata": {},
   "outputs": [
    {
     "data": {
      "image/png": "[encoded data removed]",
      "text/plain": [
       "<Figure size 640x480 with 1 Axes>"
      ]
     },
     "metadata": {},
     "output_type": "display_data"
    }
   ],
   "source": [
    "#Remove BigFeat Column\n",
    "del(regression_df['Interpretability_Measure_BigFeat'])\n",
    "\n",
    "#Drop the nan values\n",
    "regression_df_cleaned = regression_df.dropna()\n",
    "\n",
    "# Rename the columns\n",
    "regression_df_cleaned.columns = ['Dataframe', 'Base', 'AutoFeat', 'FT', 'OpenFE', 'SAFE']\n",
    "\n",
    "# Calculate the mean of the renamed columns\n",
    "averages = regression_df_cleaned[['Base', 'AutoFeat', 'FT', 'OpenFE', 'SAFE']].mean()\n",
    "\n",
    "# Multiply the averages by 100\n",
    "averages *= 100\n",
    "\n",
    "# Sort the averages in descending order\n",
    "averages = averages.sort_values(ascending=False)\n",
    "\n",
    "# Plotting\n",
    "fig, ax = plt.subplots()\n",
    "# Set all font sizes to 12\n",
    "plt.rcParams.update({'font.size': 12})\n",
    "averages.plot(kind='bar', ax=ax, color='skyblue')\n",
    "ax.axhline(100, color='gray', linestyle='--')  # Add a dotted line at the 100 mark\n",
    "ax.set_ylabel('Interpretability measure')\n",
    "ax.set_xlabel('AFE Frameworks')\n",
    "plt.xticks(rotation=45)  # Rotate x-axis labels for better readability\n",
    "plt.savefig('../Diagrams/fig20_B.pdf', format='pdf', bbox_inches='tight')\n",
    "plt.show()"
   ]
  }
 ],
 "metadata": {
  "kernelspec": {
   "display_name": "Python 3",
   "language": "python",
   "name": "python3"
  },
  "language_info": {
   "codemirror_mode": {
    "name": "ipython",
    "version": 3
   },
   "file_extension": ".py",
   "mimetype": "text/x-python",
   "name": "python",
   "nbconvert_exporter": "python",
   "pygments_lexer": "ipython3",
   "version": "3.13.1"
  }
 },
 "nbformat": 4,
 "nbformat_minor": 2
}
