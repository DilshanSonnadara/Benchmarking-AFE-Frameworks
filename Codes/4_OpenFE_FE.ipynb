{
 "cells": [
  {
   "cell_type": "markdown",
   "metadata": {},
   "source": [
    "Importing the necessary libraries"
   ]
  },
  {
   "cell_type": "code",
   "execution_count": 1,
   "metadata": {},
   "outputs": [],
   "source": [
    "import pandas as pd\n",
    "from openfe import OpenFE, transform\n",
    "import pickle\n",
    "import time\n",
    "from sklearn.preprocessing import LabelEncoder\n",
    "from sklearn.model_selection import KFold\n",
    "import warnings\n",
    "from sklearn.preprocessing import MinMaxScaler\n",
    "import traceback\n"
   ]
  },
  {
   "cell_type": "markdown",
   "metadata": {},
   "source": [
    "Import the dataset"
   ]
  },
  {
   "cell_type": "code",
   "execution_count": 2,
   "metadata": {},
   "outputs": [],
   "source": [
    "# Paths to the pickle files\n",
    "independent_path = '../Data/Cleaned Data/Independent_Data_dictionary.pkl'\n",
    "dependent_path = '../Data/Cleaned Data/Dependent_Data_dictionary.pkl'\n",
    "\n",
    "# Load the data\n",
    "with open(independent_path, 'rb') as f:\n",
    "    Independent_Data = pickle.load(f)\n",
    "\n",
    "with open(dependent_path, 'rb') as f:\n",
    "    Dependent_Data = pickle.load(f)"
   ]
  },
  {
   "cell_type": "markdown",
   "metadata": {},
   "source": [
    "Encode the dependent variable"
   ]
  },
  {
   "cell_type": "code",
   "execution_count": 3,
   "metadata": {},
   "outputs": [],
   "source": [
    "Dependent_Data_Encoded = {}\n",
    "\n",
    "for name, df in Dependent_Data.items():\n",
    "    # Creating a copy of the dataframe to modify\n",
    "    encoded_df = df.copy()\n",
    "    \n",
    "    # Initialize the LabelEncoder\n",
    "    le = LabelEncoder()\n",
    "    \n",
    "    # Iterate through each column in the dataframe\n",
    "    for column in df.columns:\n",
    "        # Encode the column if it is of type 'object' or 'category'\n",
    "        if df[column].dtype == 'object' or df[column].dtype.name == 'category':\n",
    "            # Fit label encoder and return encoded labels\n",
    "            encoded_df[column] = le.fit_transform(df[column])\n",
    "    \n",
    "    # Add the encoded dataframe to the new dictionary\n",
    "    Dependent_Data_Encoded[name] = encoded_df\n",
    "\n",
    "# Now Dependent_Data_Encoded contains all the label-encoded dataframes\n"
   ]
  },
  {
   "cell_type": "markdown",
   "metadata": {},
   "source": [
    "Applying OpenFE"
   ]
  },
  {
   "cell_type": "code",
   "execution_count": 4,
   "metadata": {},
   "outputs": [],
   "source": [
    "# Suppress warnings for metrics that might be undefined for some classifiers\n",
    "warnings.filterwarnings(\"ignore\")\n",
    "\n",
    "# Initialize cross validator\n",
    "kf = KFold(n_splits=5, shuffle=True, random_state=42)\n",
    "\n",
    "# Set names for datasets\n",
    "regression_datasets = ['fri_c3_1000_50',\n",
    " 'fri_c2_1000_25',\n",
    " 'fri_c4_500_50',\n",
    " 'fri_c4_1000_50',\n",
    " 'fri_c1_1000_25',\n",
    " 'fri_c1_500_50',\n",
    " 'fri_c3_1000_25',\n",
    " 'auto93',\n",
    " 'pyrim',\n",
    " 'autoPrice',\n",
    " 'boston',\n",
    " 'Concrete_Compressive_Strength',\n",
    " 'Auto_MPG',\n",
    " 'Forest Fires',\n",
    " 'Servo',\n",
    " 'Airfoil_Self_Noise',\n",
    " 'Wine_Quality',\n",
    " 'BodyFat',\n",
    " 'California_Housing',\n",
    " 'Quake']\n",
    "\n",
    "#Initiate the model to normalize data\n",
    "scaler = MinMaxScaler()\n",
    "\n",
    "#Initiate the OpenFE Model\n",
    "ofe = OpenFE()"
   ]
  },
  {
   "cell_type": "markdown",
   "metadata": {},
   "source": [
    "Creating a function to take categorical variables out"
   ]
  },
  {
   "cell_type": "code",
   "execution_count": 5,
   "metadata": {},
   "outputs": [],
   "source": [
    "def select_object_category_vars(df):\n",
    "    \"\"\"\n",
    "    This function takes a pandas DataFrame and returns a list of column names\n",
    "    that are of 'object' or 'category' data types.\n",
    "\n",
    "    Parameters:\n",
    "    df (pd.DataFrame): The DataFrame from which to select columns.\n",
    "\n",
    "    Returns:\n",
    "    list: A list of column names that are of 'object' or 'category' data types.\n",
    "    \"\"\"\n",
    "    # Select columns of data types 'object' and 'category'\n",
    "    obj_cat_columns = df.select_dtypes(include=['object', 'category'])\n",
    "    return obj_cat_columns.columns.tolist()\n"
   ]
  },
  {
   "cell_type": "markdown",
   "metadata": {},
   "source": [
    "Creating a function to label encode the data"
   ]
  },
  {
   "cell_type": "code",
   "execution_count": 6,
   "metadata": {},
   "outputs": [],
   "source": [
    "def encode_and_split(X_train, X_test):\n",
    "    # Concatenate the dataframes while preserving the index\n",
    "    combined = pd.concat([X_train, X_test], keys=['train', 'test'])\n",
    "\n",
    "    # Remove columns with any NaN values\n",
    "    combined = combined.dropna(axis=1, how='any')\n",
    "\n",
    "    # Apply label encoding to each categorical column\n",
    "    le = LabelEncoder()\n",
    "    for column in combined.select_dtypes(include=['object', 'category']).columns:\n",
    "        combined[column] = le.fit_transform(combined[column].astype(str))\n",
    "\n",
    "    # Split the combined dataframe back into X_train and X_test\n",
    "    X_train_encoded = combined.xs('train')\n",
    "    X_test_encoded = combined.xs('test')\n",
    "\n",
    "    return X_train_encoded, X_test_encoded\n"
   ]
  },
  {
   "cell_type": "markdown",
   "metadata": {},
   "source": [
    "Performing FE"
   ]
  },
  {
   "cell_type": "code",
   "execution_count": null,
   "metadata": {},
   "outputs": [],
   "source": [
    "# Processing datasets\n",
    "for dataset_name, X in Independent_Data.items():\n",
    "    if dataset_name in ['gina']:\n",
    "        try:\n",
    "            times = []\n",
    "            fold_data = {}  # Dictionary to store fold data\n",
    "            print(f'Processing dataset: {dataset_name}')\n",
    "            y = Dependent_Data_Encoded[dataset_name]\n",
    "\n",
    "            cat_cols = select_object_category_vars(X)\n",
    "\n",
    "            fold_count = 1\n",
    "            # Manually handling cross-validation to incorporate AutoFeat\n",
    "            for train_index, test_index in kf.split(X):\n",
    "                fold_key = f'fold{fold_count}'\n",
    "                fold_count += 1\n",
    "                X_train, X_test = X.iloc[train_index], X.iloc[test_index]\n",
    "                y_train, y_test = y.iloc[train_index], y.iloc[test_index]\n",
    "                \n",
    "                # OpenFE feature engineering\n",
    "                # Start timing for OpenFE\n",
    "                if dataset_name in regression_datasets:\n",
    "                    start_time = time.time()\n",
    "                    features = ofe.fit(data = X_train, label = y_train,task = 'regression',categorical_features=cat_cols,n_jobs=10)\n",
    "                    # End timing after fitting the model\n",
    "                    transform_time = time.time() - start_time\n",
    "                    times.append(transform_time)\n",
    "                else:\n",
    "                    start_time = time.time()\n",
    "                    features = ofe.fit(data = X_train, label = y_train,task = 'classification',categorical_features=cat_cols,n_jobs=10)\n",
    "                    # End timing after fitting the model\n",
    "                    transform_time = time.time() - start_time\n",
    "                    times.append(transform_time)\n",
    "\n",
    "                X_train_transformed, X_test_transformed = transform(X_train,X_test,features,n_jobs=10)\n",
    "\n",
    "                #Label encode the dataframes\n",
    "                X_train_encoded, X_test_encoded = encode_and_split(X_train_transformed, X_test_transformed)\n",
    "\n",
    "                # Apply normalization on each DataFrame\n",
    "                X_train_transformed = pd.DataFrame(scaler.fit_transform(X_train_encoded), columns=X_train_encoded.columns, index=X_train_encoded.index)\n",
    "                X_test_transformed = pd.DataFrame(scaler.transform(X_test_encoded), columns=X_test_encoded.columns, index=X_test_encoded.index)\n",
    "\n",
    "                fold_data[fold_key] = {\n",
    "                    'Training_Independent': X_train_transformed,\n",
    "                    'Training_Dependent': y_train,\n",
    "                    'Testing_Independent': X_test_transformed,\n",
    "                    'Testing_Dependent': y_test,\n",
    "                    'Timing': transform_time\n",
    "                }\n",
    "\n",
    "            with open(f'../Data/OPENFE/{dataset_name}_fold_data.pkl', 'wb') as file:\n",
    "                pickle.dump(fold_data, file)\n",
    "            \n",
    "        except (Exception,SystemExit) as e:\n",
    "            print(f\"Error processing {dataset_name}: {e}\")\n",
    "            traceback.print_exc()  # This will print the traceback of the exception\n",
    "\n"
   ]
  }
 ],
 "metadata": {
  "kernelspec": {
   "display_name": "Python 3",
   "language": "python",
   "name": "python3"
  },
  "language_info": {
   "codemirror_mode": {
    "name": "ipython",
    "version": 3
   },
   "file_extension": ".py",
   "mimetype": "text/x-python",
   "name": "python",
   "nbconvert_exporter": "python",
   "pygments_lexer": "ipython3",
   "version": "3.13.1"
  }
 },
 "nbformat": 4,
 "nbformat_minor": 2
}
