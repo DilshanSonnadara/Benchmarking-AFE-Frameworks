{
 "cells": [
  {
   "cell_type": "markdown",
   "metadata": {},
   "source": [
    "Import Libraries"
   ]
  },
  {
   "cell_type": "code",
   "execution_count": 2,
   "metadata": {},
   "outputs": [],
   "source": [
    "import pickle\n",
    "from SafeTransformer import SafeTransformer\n",
    "import pandas as pd\n",
    "import time\n",
    "from sklearn.preprocessing import LabelEncoder\n",
    "from sklearn.ensemble import RandomForestClassifier, ExtraTreesRegressor\n",
    "from sklearn.model_selection import KFold\n",
    "import warnings\n",
    "from sklearn.preprocessing import MinMaxScaler\n"
   ]
  },
  {
   "cell_type": "markdown",
   "metadata": {},
   "source": [
    "Get Data"
   ]
  },
  {
   "cell_type": "code",
   "execution_count": 3,
   "metadata": {},
   "outputs": [],
   "source": [
    "# Paths to the pickle files\n",
    "independent_path = '../Data/Cleaned Data/Independent_Data_dictionary.pkl'\n",
    "dependent_path = '../Data/Cleaned Data/Dependent_Data_dictionary.pkl'\n",
    "\n",
    "# Load the data\n",
    "with open(independent_path, 'rb') as f:\n",
    "    Independent_Data = pickle.load(f)\n",
    "\n",
    "with open(dependent_path, 'rb') as f:\n",
    "    Dependent_Data = pickle.load(f)"
   ]
  },
  {
   "cell_type": "markdown",
   "metadata": {},
   "source": [
    "Encoding the data"
   ]
  },
  {
   "cell_type": "code",
   "execution_count": 4,
   "metadata": {},
   "outputs": [],
   "source": [
    "Dependent_Data_Encoded = {}\n",
    "\n",
    "for name, df in Dependent_Data.items():\n",
    "    # Creating a copy of the dataframe to modify\n",
    "    encoded_df = df.copy()\n",
    "    \n",
    "    # Initialize the LabelEncoder\n",
    "    le = LabelEncoder()\n",
    "    \n",
    "    # Iterate through each column in the dataframe\n",
    "    for column in df.columns:\n",
    "        # Encode the column if it is of type 'object' or 'category'\n",
    "        if df[column].dtype == 'object' or df[column].dtype.name == 'category':\n",
    "            # Fit label encoder and return encoded labels\n",
    "            encoded_df[column] = le.fit_transform(df[column])\n",
    "    \n",
    "    # Add the encoded dataframe to the new dictionary\n",
    "    Dependent_Data_Encoded[name] = encoded_df\n",
    "\n",
    "# Now Dependent_Data_Encoded contains all the label-encoded dataframes\n"
   ]
  },
  {
   "cell_type": "code",
   "execution_count": 5,
   "metadata": {},
   "outputs": [],
   "source": [
    "Indpendent_Data_Encoded = {}\n",
    "\n",
    "for name, df in Independent_Data.items():\n",
    "    # Creating a copy of the dataframe to modify\n",
    "    encoded_df = df.copy()\n",
    "    \n",
    "    # Initialize the LabelEncoder\n",
    "    le = LabelEncoder()\n",
    "    \n",
    "    # Iterate through each column in the dataframe\n",
    "    for column in df.columns:\n",
    "        # Encode the column if it is of type 'object' or 'category'\n",
    "        if df[column].dtype == 'object' or df[column].dtype.name == 'category':\n",
    "            # Fit label encoder and return encoded labels\n",
    "            encoded_df[column] = le.fit_transform(df[column])\n",
    "    \n",
    "    # Add the encoded dataframe to the new dictionary\n",
    "    Indpendent_Data_Encoded[name] = encoded_df\n",
    "\n",
    "# Now Independent_Data_Encoded contains all the label-encoded dataframes\n"
   ]
  },
  {
   "cell_type": "markdown",
   "metadata": {},
   "source": [
    "Applying SAFE"
   ]
  },
  {
   "cell_type": "code",
   "execution_count": 6,
   "metadata": {},
   "outputs": [],
   "source": [
    "# Suppress warnings for metrics that might be undefined for some classifiers\n",
    "warnings.filterwarnings(\"ignore\")\n",
    "\n",
    "# Initialize cross validator\n",
    "kf = KFold(n_splits=5, shuffle=True, random_state=42)\n",
    "\n",
    "# Set names for datasets\n",
    "regression_datasets = ['fri_c3_1000_50',\n",
    " 'fri_c2_1000_25',\n",
    " 'fri_c4_500_50',\n",
    " 'fri_c4_1000_50',\n",
    " 'fri_c1_1000_25',\n",
    " 'fri_c1_500_50',\n",
    " 'fri_c3_1000_25',\n",
    " 'auto93',\n",
    " 'pyrim',\n",
    " 'autoPrice',\n",
    " 'boston',\n",
    " 'Concrete_Compressive_Strength',\n",
    " 'Auto_MPG',\n",
    " 'Forest Fires',\n",
    " 'Servo',\n",
    " 'Airfoil_Self_Noise',\n",
    " 'Wine_Quality',\n",
    " 'BodyFat',\n",
    " 'California_Housing',\n",
    " 'Quake']\n",
    "\n",
    "multi_class_classification_datasets = ['Balance_Scale', 'Iris']\n",
    "\n",
    "#Initiate the model to normalize data\n",
    "scaler = MinMaxScaler()"
   ]
  },
  {
   "cell_type": "code",
   "execution_count": null,
   "metadata": {},
   "outputs": [],
   "source": [
    "# Processing datasets\n",
    "for dataset_name, X in Independent_Data.items():\n",
    "    try:\n",
    "        fold_data = {}  # Dictionary to store fold data\n",
    "        times = []\n",
    "        print(f'Processing dataset: {dataset_name}')\n",
    "        y = Dependent_Data_Encoded[dataset_name]\n",
    "        X_E = Indpendent_Data_Encoded[dataset_name]\n",
    "        if dataset_name in regression_datasets:\n",
    "            model = ExtraTreesRegressor(random_state=42)\n",
    "        elif dataset_name in multi_class_classification_datasets:\n",
    "            model = RandomForestClassifier(random_state=42)\n",
    "        else:\n",
    "            model = RandomForestClassifier(random_state=42)\n",
    "\n",
    "        fold_count = 1\n",
    "        # Manually handling cross-validation to incorporate SAFE\n",
    "        for train_index, test_index in kf.split(X):\n",
    "            fold_key = f'fold{fold_count}'\n",
    "            fold_count += 1\n",
    "            X_train, X_test = X.iloc[train_index], X.iloc[test_index]\n",
    "            y_train, y_test = y.iloc[train_index], y.iloc[test_index]\n",
    "            X_train_E, X_test_E = X_E.iloc[train_index], X_E.iloc[test_index]\n",
    "            \n",
    "            # SAFE feature engineering\n",
    "            # Start timing for SAFE\n",
    "            start_time = time.time()\n",
    "            model.fit(X_train_E, y_train)\n",
    "            safe_transformer = SafeTransformer(model=model)\n",
    "            safe_transformer = safe_transformer.fit(X_train,y_train)\n",
    "            # End timing after fitting the model\n",
    "            fit_time = time.time() - start_time\n",
    "            times.append(fit_time)\n",
    "\n",
    "            X_train_transformed = safe_transformer.transform(X_train)\n",
    "            X_test_transformed = safe_transformer.transform(X_test)\n",
    "\n",
    "            # Apply normalization on each DataFrame\n",
    "            X_train_transformed = pd.DataFrame(scaler.fit_transform(X_train_transformed), columns=X_train_transformed.columns, index=X_train_transformed.index)\n",
    "            X_test_transformed = pd.DataFrame(scaler.transform(X_test_transformed), columns=X_test_transformed.columns, index=X_test_transformed.index)\n",
    "            \n",
    "            fold_data[fold_key] = {\n",
    "                'Training_Independent': X_train_transformed,\n",
    "                'Training_Dependent': y_train,\n",
    "                'Testing_Independent': X_test_transformed,\n",
    "                'Testing_Dependent': y_test,\n",
    "                'Timing': fit_time\n",
    "            }\n",
    "                \n",
    "        # Serialize fold data to a .pkl file\n",
    "        with open(f'../Data/SAFE/{dataset_name}_fold_data.pkl', 'wb') as file:\n",
    "            pickle.dump(fold_data, file)\n",
    "        \n",
    "    except Exception as e:\n",
    "        print(f\"Error processing {dataset_name}: {e}\")\n"
   ]
  }
 ],
 "metadata": {
  "kernelspec": {
   "display_name": "Python 3",
   "language": "python",
   "name": "python3"
  },
  "language_info": {
   "codemirror_mode": {
    "name": "ipython",
    "version": 3
   },
   "file_extension": ".py",
   "mimetype": "text/x-python",
   "name": "python",
   "nbconvert_exporter": "python",
   "pygments_lexer": "ipython3",
   "version": "3.13.1"
  }
 },
 "nbformat": 4,
 "nbformat_minor": 2
}
