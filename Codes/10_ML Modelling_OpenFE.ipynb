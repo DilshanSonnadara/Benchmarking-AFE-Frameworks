{
 "cells": [
  {
   "cell_type": "markdown",
   "metadata": {},
   "source": [
    "Import the libraries"
   ]
  },
  {
   "cell_type": "code",
   "execution_count": 5,
   "metadata": {},
   "outputs": [],
   "source": [
    "import pandas as pd\n",
    "import numpy as np\n",
    "import pickle\n",
    "import os\n",
    "from sklearn.linear_model import LinearRegression, LogisticRegression\n",
    "from sklearn.neighbors import KNeighborsRegressor, KNeighborsClassifier\n",
    "from sklearn.svm import SVR, SVC\n",
    "from sklearn.ensemble import RandomForestRegressor, RandomForestClassifier, AdaBoostRegressor, AdaBoostClassifier\n",
    "from sklearn.ensemble import GradientBoostingRegressor, GradientBoostingClassifier, ExtraTreesRegressor, ExtraTreesClassifier\n",
    "from sklearn.neural_network import MLPRegressor, MLPClassifier\n",
    "from sklearn.tree import DecisionTreeRegressor, DecisionTreeClassifier\n",
    "from sklearn.metrics import mean_absolute_error, r2_score, accuracy_score, f1_score\n",
    "import lightgbm as lgb\n",
    "import xgboost as xgb\n",
    "import warnings"
   ]
  },
  {
   "cell_type": "markdown",
   "metadata": {},
   "source": [
    "Specify the dataset types"
   ]
  },
  {
   "cell_type": "code",
   "execution_count": 6,
   "metadata": {},
   "outputs": [],
   "source": [
    "# Define paths and datasets\n",
    "regression_datasets = [ 'fri_c3_1000_50', 'fri_c2_1000_25', 'fri_c4_500_50', 'fri_c4_1000_50', 'fri_c1_1000_25', 'fri_c1_500_50', 'fri_c3_1000_25', 'auto93', 'pyrim', 'autoPrice', 'boston', 'Concrete_Compressive_Strength', 'Auto_MPG', 'Forest Fires', 'Servo', 'Airfoil_Self_Noise', 'Wine_Quality', 'BodyFat', 'California_Housing', 'Quake']\n",
    "multi_class_classification_datasets = ['Balance_Scale', 'Iris']"
   ]
  },
  {
   "cell_type": "markdown",
   "metadata": {},
   "source": [
    "Define the models"
   ]
  },
  {
   "cell_type": "code",
   "execution_count": 7,
   "metadata": {},
   "outputs": [],
   "source": [
    "# Classification models\n",
    "classification_models = {\n",
    "    \"Logistic Regression\": LogisticRegression(random_state=42),\n",
    "    \"KNN Classification\": KNeighborsClassifier(),\n",
    "    \"SVM Classification\": SVC(random_state=42),\n",
    "    \"Random Forest Classification\": RandomForestClassifier(random_state=42),\n",
    "    \"AdaBoost Classification\": AdaBoostClassifier(random_state=42),\n",
    "    \"MLP Classification\": MLPClassifier(random_state=42),\n",
    "    \"Decision Tree Classification\": DecisionTreeClassifier(random_state=42),\n",
    "    \"Extremely Randomized Trees Classification\": ExtraTreesClassifier(random_state=42),\n",
    "    \"Gradient Boosting Classification\": GradientBoostingClassifier(random_state=42),\n",
    "    \"LightGBM Classification\": lgb.LGBMClassifier(random_state=42),\n",
    "    \"XGBoost Classification\": xgb.XGBClassifier(random_state=42)\n",
    "}\n",
    "\n",
    "# Regression models\n",
    "regression_models = {\n",
    "    \"Linear Regression\": LinearRegression(),\n",
    "    \"KNN Regression\": KNeighborsRegressor(),\n",
    "    \"SVM Regression\": SVR(),\n",
    "    \"Random Forest Regression\": RandomForestRegressor(random_state=42),\n",
    "    \"AdaBoost Regression\": AdaBoostRegressor(random_state=42),\n",
    "    \"MLP Regression\": MLPRegressor(random_state=42),\n",
    "    \"Decision Tree Regression\": DecisionTreeRegressor(random_state=42),\n",
    "    \"Extremely Randomized Trees Regression\": ExtraTreesRegressor(random_state=42),\n",
    "    \"Gradient Boosting Regression\": GradientBoostingRegressor(random_state=42),\n",
    "    \"LightGBM Regression\": lgb.LGBMRegressor(random_state=42),\n",
    "    \"XGBoost Regression\": xgb.XGBRegressor(random_state=42)\n",
    "}\n",
    "\n",
    "# Multi-Class Classification Models with appropriate settings for multi-class scenarios\n",
    "classification_models_multi = {\n",
    "    \"Logistic Regression Multi-Class\": LogisticRegression(random_state=42, multi_class='multinomial', solver='lbfgs'),\n",
    "    \"KNN Classification Multi-Class\": KNeighborsClassifier(),\n",
    "    \"SVM Classification Multi-Class\": SVC(probability=True, random_state=42, decision_function_shape='ovr'),\n",
    "    \"Random Forest Classification Multi-Class\": RandomForestClassifier(random_state=42),\n",
    "    \"AdaBoost Classification Multi-Class\": AdaBoostClassifier(random_state=42),  # Note: AdaBoost by default is not the best for multi-class but used here for completeness\n",
    "    \"MLP Classification Multi-Class\": MLPClassifier(random_state=42),\n",
    "    \"Decision Tree Classification Multi-Class\": DecisionTreeClassifier(random_state=42),\n",
    "    \"Extremely Randomized Trees Classification Multi-Class\": ExtraTreesClassifier(random_state=42),\n",
    "    \"Gradient Boosting Classification Multi-Class\": GradientBoostingClassifier(random_state=42),\n",
    "    \"LightGBM Classification Multi-Class\": lgb.LGBMClassifier(random_state=42),\n",
    "    \"XGBoost Classification Multi-Class\": xgb.XGBClassifier(eval_metric='mlogloss', random_state=42)\n",
    "}\n"
   ]
  },
  {
   "cell_type": "markdown",
   "metadata": {},
   "source": [
    "Define functions for loading data and computing metrics"
   ]
  },
  {
   "cell_type": "code",
   "execution_count": 8,
   "metadata": {},
   "outputs": [],
   "source": [
    "# Function to load dataset\n",
    "def load_data(file_path):\n",
    "    with open(file_path, 'rb') as file:\n",
    "        data = pickle.load(file)\n",
    "    return data"
   ]
  },
  {
   "cell_type": "code",
   "execution_count": 9,
   "metadata": {},
   "outputs": [],
   "source": [
    "# Function to compute regression metrics\n",
    "def compute_regression_metrics(model, X_train, X_test, y_train, y_test):\n",
    "    model.fit(X_train, y_train)\n",
    "    predictions = model.predict(X_test)\n",
    "    \n",
    "    # Calculate R-squared\n",
    "    r2 = r2_score(y_test, predictions)\n",
    "    \n",
    "    # Calculate MAE\n",
    "    mae = mean_absolute_error(y_test, predictions)\n",
    "    \n",
    "    # Calculate the range of y_test\n",
    "    range_of_y_test = np.max(y_test) - np.min(y_test)\n",
    "    \n",
    "    # Avoid division by zero in case y_test is constant\n",
    "    if range_of_y_test == 0:\n",
    "        normalized_mae = mae\n",
    "    else:\n",
    "        # Calculate Normalized MAE\n",
    "        normalized_mae = mae / range_of_y_test\n",
    "    \n",
    "    return r2, normalized_mae"
   ]
  },
  {
   "cell_type": "code",
   "execution_count": 10,
   "metadata": {},
   "outputs": [],
   "source": [
    "# Function to compute classification metrics\n",
    "def compute_classification_metrics(model, X_train, X_test, y_train, y_test):\n",
    "    model.fit(X_train, y_train)\n",
    "    predictions = model.predict(X_test)\n",
    "    accuracy = accuracy_score(y_test, predictions)\n",
    "    f1 = f1_score(y_test, predictions, average='macro')\n",
    "    return accuracy, f1"
   ]
  },
  {
   "cell_type": "markdown",
   "metadata": {},
   "source": [
    "Creating lists to store results"
   ]
  },
  {
   "cell_type": "code",
   "execution_count": 11,
   "metadata": {},
   "outputs": [],
   "source": [
    "# Initialize empty lists for storing results\n",
    "regression_results = []\n",
    "classification_results = []"
   ]
  },
  {
   "cell_type": "markdown",
   "metadata": {},
   "source": [
    "Function to fit ML Models"
   ]
  },
  {
   "cell_type": "code",
   "execution_count": 19,
   "metadata": {},
   "outputs": [],
   "source": [
    "# Function to process each dataset file\n",
    "def process_file(filename):\n",
    "    data = load_data(os.path.join(directory, filename))\n",
    "    dataset_name = filename[:-14]\n",
    "    if dataset_name in regression_datasets:\n",
    "        models = regression_models\n",
    "        metric_function = compute_regression_metrics\n",
    "        result_list = regression_results\n",
    "        metric_names = ['R2','NMAE']\n",
    "    elif dataset_name in multi_class_classification_datasets:\n",
    "        models = classification_models_multi\n",
    "        metric_function = compute_classification_metrics\n",
    "        result_list = classification_results\n",
    "        metric_names = ['Accuracy', 'F1']\n",
    "    else:\n",
    "        models = classification_models\n",
    "        metric_function = compute_classification_metrics\n",
    "        result_list = classification_results\n",
    "        metric_names = ['Accuracy', 'F1']\n",
    "\n",
    "    # Compute metrics for each model and fold\n",
    "    for model_name, model in models.items():\n",
    "        for i in range(1, 6):  # Assuming there are 5 folds\n",
    "            fold = f'fold{i}'\n",
    "            X_train = data[fold]['Training_Independent']\n",
    "            y_train = data[fold]['Training_Dependent']\n",
    "            X_test = data[fold]['Testing_Independent']\n",
    "            y_test = data[fold]['Testing_Dependent']\n",
    "            metrics = metric_function(model, X_train, X_test, y_train, y_test)\n",
    "            result_list.append([dataset_name, model_name] + list(metrics))\n"
   ]
  },
  {
   "cell_type": "markdown",
   "metadata": {},
   "source": [
    "Function to get time"
   ]
  },
  {
   "cell_type": "code",
   "execution_count": 13,
   "metadata": {},
   "outputs": [],
   "source": [
    "def read_pkl_files(directory):\n",
    "    \"\"\"\n",
    "    Reads all .pkl files in the given directory, extracts 'Timing' data from each fold,\n",
    "    and returns a DataFrame containing this data along with the corresponding file names.\n",
    "\n",
    "    Parameters:\n",
    "    directory (str): The path to the directory containing the .pkl files.\n",
    "\n",
    "    Returns:\n",
    "    pd.DataFrame: A DataFrame with columns 'DataFrame' and 'Time', where 'DataFrame' is the\n",
    "    name of the .pkl file and 'Time' is the extracted timing data.\n",
    "    \"\"\"\n",
    "    # Initialize an empty list to store the data\n",
    "    data_list = []\n",
    "\n",
    "    # Iterate over each file in the directory\n",
    "    for filename in os.listdir(directory):\n",
    "        if filename.endswith('.pkl'):\n",
    "            # Construct the full file path\n",
    "            file_path = os.path.join(directory, filename)\n",
    "            \n",
    "            # Load the .pkl file\n",
    "            with open(file_path, 'rb') as file:\n",
    "                data = pickle.load(file)\n",
    "            \n",
    "            # Extract 'Timing' from each fold and append to the list\n",
    "            for key in ['fold1', 'fold2', 'fold3', 'fold4', 'fold5']:\n",
    "                time = data[key]['Timing']\n",
    "                data_list.append({'DataFrame': filename, 'Time': time})\n",
    "\n",
    "    # Create a DataFrame from the list\n",
    "    df = pd.DataFrame(data_list)\n",
    "\n",
    "    return df"
   ]
  },
  {
   "cell_type": "markdown",
   "metadata": {},
   "source": [
    "# Fitting the ML Models"
   ]
  },
  {
   "cell_type": "markdown",
   "metadata": {},
   "source": [
    "OpenFE"
   ]
  },
  {
   "cell_type": "code",
   "execution_count": null,
   "metadata": {},
   "outputs": [],
   "source": [
    "directory = '../Data/OPENFE'\n",
    "\n",
    "# Suppress all warnings (not recommended for development)\n",
    "warnings.filterwarnings('ignore')\n",
    "\n",
    "# Process each file in the directory\n",
    "for filename in os.listdir(directory):\n",
    "    if filename.endswith('.pkl'):\n",
    "        print(filename)\n",
    "        process_file(filename)\n",
    "\n",
    "# Convert results to DataFrame\n",
    "regression_df = pd.DataFrame(regression_results, columns=['Dataframe', 'Model'] + ['R2','NMAE'])\n",
    "classification_df = pd.DataFrame(classification_results, columns=['Dataframe', 'Model'] + ['Accuracy', 'F1'])\n",
    "\n",
    "# Grouping the regression DataFrame by 'Dataframe' and 'Model', and calculating the mean of other columns\n",
    "regression_results_mean = regression_df.groupby(['Dataframe', 'Model']).mean().reset_index()\n",
    "\n",
    "# Grouping the classification DataFrame by 'Dataframe' and 'Model', and calculating the mean of other columns\n",
    "classification_results_mean = classification_df.groupby(['Dataframe', 'Model']).mean().reset_index()\n",
    "\n",
    "# Grouping the regression DataFrame by 'Dataframe' and 'Model', and calculating the mean of other columns\n",
    "regression_results_std = regression_df.groupby(['Dataframe', 'Model']).std().reset_index()\n",
    "\n",
    "# Grouping the classification DataFrame by 'Dataframe' and 'Model', and calculating the mean of other columns\n",
    "classification_results_std = classification_df.groupby(['Dataframe', 'Model']).std().reset_index()\n",
    "\n",
    "# Collect the times\n",
    "time_df = read_pkl_files(directory)\n",
    "\n",
    "# Create the dictionary\n",
    "results = {\n",
    "    'classification_df': classification_results_mean,\n",
    "    'regression_df': regression_results_mean,\n",
    "    'classification_df_std': classification_results_std,\n",
    "    'regression_df_std': regression_results_std,\n",
    "    'classification_all': classification_df,\n",
    "    'regression_all': regression_df,\n",
    "    'time_df': time_df\n",
    "}\n",
    "\n",
    "#Save the result\n",
    "pickle.dump(results, open(\"../Results/OpenFE_Results.pkl\", \"wb\"))"
   ]
  }
 ],
 "metadata": {
  "kernelspec": {
   "display_name": "Python 3",
   "language": "python",
   "name": "python3"
  },
  "language_info": {
   "codemirror_mode": {
    "name": "ipython",
    "version": 3
   },
   "file_extension": ".py",
   "mimetype": "text/x-python",
   "name": "python",
   "nbconvert_exporter": "python",
   "pygments_lexer": "ipython3",
   "version": "3.13.1"
  }
 },
 "nbformat": 4,
 "nbformat_minor": 2
}
