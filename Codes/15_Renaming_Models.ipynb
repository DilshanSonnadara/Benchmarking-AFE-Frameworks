{
 "cells": [
  {
   "cell_type": "markdown",
   "metadata": {},
   "source": [
    "Import the libraries"
   ]
  },
  {
   "cell_type": "code",
   "execution_count": 1,
   "metadata": {},
   "outputs": [],
   "source": [
    "import pickle\n",
    "import os"
   ]
  },
  {
   "cell_type": "markdown",
   "metadata": {},
   "source": [
    "Getting the results"
   ]
  },
  {
   "cell_type": "code",
   "execution_count": 2,
   "metadata": {},
   "outputs": [],
   "source": [
    "# Paths to the pickle files\n",
    "Base_path = '../Results/Base_Results.pkl'\n",
    "BigFeat_path = '../Results/BigFeat_results.pkl'\n",
    "AutoFeat_path = '../Results/AutoFeat_results.pkl'\n",
    "FT_path = '../Results/FT_Results.pkl'\n",
    "Open_path = '../Results/OpenFE_Results.pkl'\n",
    "SAFE_path = '../Results/SAFE_Results.pkl'\n",
    "\n",
    "# Load the data\n",
    "with open(Base_path, 'rb') as f:\n",
    "    Base = pickle.load(f)\n",
    "\n",
    "with open(BigFeat_path, 'rb') as f:\n",
    "    BigFeat = pickle.load(f)\n",
    "\n",
    "with open(AutoFeat_path, 'rb') as f:\n",
    "    AutoFeat = pickle.load(f)\n",
    "\n",
    "with open(FT_path, 'rb') as f:\n",
    "    FeatureTools = pickle.load(f)\n",
    "\n",
    "with open(Open_path, 'rb') as f:\n",
    "    OpenFE = pickle.load(f)\n",
    "\n",
    "with open(SAFE_path, 'rb') as f:\n",
    "    SAFE = pickle.load(f)"
   ]
  },
  {
   "cell_type": "markdown",
   "metadata": {},
   "source": [
    "Renaming Models"
   ]
  },
  {
   "cell_type": "code",
   "execution_count": 3,
   "metadata": {},
   "outputs": [],
   "source": [
    "# Dictionary to map old names to new abbreviations\n",
    "rename_dict = {\n",
    "    'AdaBoost Classification': 'AB',\n",
    "    'Decision Tree Classification': 'DT',\n",
    "    'Extremely Randomized Trees Classification': 'ET',\n",
    "    'Gradient Boosting Classification': 'GB',\n",
    "    'KNN Classification': 'KNN',\n",
    "    'LightGBM Classification': 'LGBM',\n",
    "    'Logistic Regression': 'LR',\n",
    "    'MLP Classification': 'MLP',\n",
    "    'Random Forest Classification': 'RF',\n",
    "    'SVM Classification': 'SVM',\n",
    "    'XGBoost Classification': 'XGB',\n",
    "    'AdaBoost Classification Multi-Class': 'AB',\n",
    "    'Decision Tree Classification Multi-Class': 'DT',\n",
    "    'Extremely Randomized Trees Classification Multi-Class': 'ET',\n",
    "    'Gradient Boosting Classification Multi-Class': 'GB',\n",
    "    'KNN Classification Multi-Class': 'KNN',\n",
    "    'LightGBM Classification Multi-Class': 'LGBM',\n",
    "    'Logistic Regression Multi-Class': 'LR',\n",
    "    'MLP Classification Multi-Class': 'MLP',\n",
    "    'Random Forest Classification Multi-Class': 'RF',\n",
    "    'SVM Classification Multi-Class': 'SVM',\n",
    "    'XGBoost Classification Multi-Class': 'XGB'\n",
    "}\n",
    "\n",
    "# Replace the values based on the dictionary\n",
    "Base['classification_df']['Model'] = Base['classification_df']['Model'].replace(rename_dict)\n",
    "Base['classification_all']['Model'] = Base['classification_all']['Model'].replace(rename_dict)\n",
    "Base['classification_df_std']['Model'] = Base['classification_df_std']['Model'].replace(rename_dict)\n",
    "\n",
    "BigFeat['classification_df']['Model'] = BigFeat['classification_df']['Model'].replace(rename_dict)\n",
    "BigFeat['classification_all']['Model'] = BigFeat['classification_all']['Model'].replace(rename_dict)\n",
    "BigFeat['classification_df_std']['Model'] = BigFeat['classification_df_std']['Model'].replace(rename_dict)\n",
    "\n",
    "AutoFeat['classification_df']['Model'] = AutoFeat['classification_df']['Model'].replace(rename_dict)\n",
    "AutoFeat['classification_all']['Model'] = AutoFeat['classification_all']['Model'].replace(rename_dict)\n",
    "AutoFeat['classification_df_std']['Model'] = AutoFeat['classification_df_std']['Model'].replace(rename_dict)\n",
    "\n",
    "FeatureTools['classification_df']['Model'] = FeatureTools['classification_df']['Model'].replace(rename_dict)\n",
    "FeatureTools['classification_all']['Model'] = FeatureTools['classification_all']['Model'].replace(rename_dict)\n",
    "FeatureTools['classification_df_std']['Model'] = FeatureTools['classification_df_std']['Model'].replace(rename_dict)\n",
    "\n",
    "OpenFE['classification_df']['Model'] = OpenFE['classification_df']['Model'].replace(rename_dict)\n",
    "OpenFE['classification_all']['Model'] = OpenFE['classification_all']['Model'].replace(rename_dict)\n",
    "OpenFE['classification_df_std']['Model'] = OpenFE['classification_df_std']['Model'].replace(rename_dict)\n",
    "\n",
    "SAFE['classification_df']['Model'] = SAFE['classification_df']['Model'].replace(rename_dict)\n",
    "SAFE['classification_all']['Model'] = SAFE['classification_all']['Model'].replace(rename_dict)\n",
    "SAFE['classification_df_std']['Model'] = SAFE['classification_df_std']['Model'].replace(rename_dict)"
   ]
  },
  {
   "cell_type": "code",
   "execution_count": 4,
   "metadata": {},
   "outputs": [],
   "source": [
    "# Dictionary to map old names to new abbreviations\n",
    "rename_dict = {\n",
    "    'Linear Regression': 'LR',\n",
    "    'KNN Regression': 'KNN',\n",
    "    'SVM Regression': 'SVM',\n",
    "    'Random Forest Regression': 'RF',\n",
    "    'AdaBoost Regression': 'AB',\n",
    "    'MLP Regression': 'MLP',\n",
    "    'Decision Tree Regression': 'DT',\n",
    "    'Extremely Randomized Trees Regression': 'ET',\n",
    "    'Gradient Boosting Regression': 'GB',\n",
    "    'LightGBM Regression': 'LGBM',\n",
    "    'XGBoost Regression': 'XGB'\n",
    "}\n",
    "\n",
    "# Replace the values based on the dictionary\n",
    "Base['regression_df']['Model'] = Base['regression_df']['Model'].replace(rename_dict)\n",
    "Base['regression_all']['Model'] = Base['regression_all']['Model'].replace(rename_dict)\n",
    "Base['regression_df_std']['Model'] = Base['regression_df_std']['Model'].replace(rename_dict)\n",
    "\n",
    "AutoFeat['regression_df']['Model'] = AutoFeat['regression_df']['Model'].replace(rename_dict)\n",
    "AutoFeat['regression_all']['Model'] = AutoFeat['regression_all']['Model'].replace(rename_dict)\n",
    "AutoFeat['regression_df_std']['Model'] = AutoFeat['regression_df_std']['Model'].replace(rename_dict)\n",
    "\n",
    "FeatureTools['regression_df']['Model'] = FeatureTools['regression_df']['Model'].replace(rename_dict)\n",
    "FeatureTools['regression_all']['Model'] = FeatureTools['regression_all']['Model'].replace(rename_dict)\n",
    "FeatureTools['regression_df_std']['Model'] = FeatureTools['regression_df_std']['Model'].replace(rename_dict)\n",
    "\n",
    "OpenFE['regression_df']['Model'] = OpenFE['regression_df']['Model'].replace(rename_dict)\n",
    "OpenFE['regression_all']['Model'] = OpenFE['regression_all']['Model'].replace(rename_dict)\n",
    "OpenFE['regression_df_std']['Model'] = OpenFE['regression_df_std']['Model'].replace(rename_dict)\n",
    "\n",
    "SAFE['regression_df']['Model'] = SAFE['regression_df']['Model'].replace(rename_dict)\n",
    "SAFE['regression_all']['Model'] = SAFE['regression_all']['Model'].replace(rename_dict)\n",
    "SAFE['regression_df_std']['Model'] = SAFE['regression_df_std']['Model'].replace(rename_dict)"
   ]
  },
  {
   "cell_type": "markdown",
   "metadata": {},
   "source": [
    "Saving the results"
   ]
  },
  {
   "cell_type": "code",
   "execution_count": 5,
   "metadata": {},
   "outputs": [],
   "source": [
    "#Save the result\n",
    "pickle.dump(Base, open(\"../Results/Base_Results.pkl\", \"wb\"))\n",
    "pickle.dump(BigFeat, open(\"../Results/BigFeat_Results.pkl\", \"wb\"))\n",
    "pickle.dump(OpenFE, open(\"../Results/OpenFE_Results.pkl\", \"wb\"))\n",
    "pickle.dump(SAFE, open(\"../Results/SAFE_Results.pkl\", \"wb\"))\n",
    "pickle.dump(AutoFeat, open(\"../Results/AutoFeat_Results.pkl\", \"wb\"))\n",
    "pickle.dump(FeatureTools, open(\"../Results/FT_Results.pkl\", \"wb\"))"
   ]
  }
 ],
 "metadata": {
  "kernelspec": {
   "display_name": "Python 3",
   "language": "python",
   "name": "python3"
  },
  "language_info": {
   "codemirror_mode": {
    "name": "ipython",
    "version": 3
   },
   "file_extension": ".py",
   "mimetype": "text/x-python",
   "name": "python",
   "nbconvert_exporter": "python",
   "pygments_lexer": "ipython3",
   "version": "3.13.1"
  }
 },
 "nbformat": 4,
 "nbformat_minor": 2
}
