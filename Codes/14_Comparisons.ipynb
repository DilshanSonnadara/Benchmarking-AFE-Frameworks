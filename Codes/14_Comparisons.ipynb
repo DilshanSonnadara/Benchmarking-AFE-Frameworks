{
 "cells": [
  {
   "cell_type": "code",
   "execution_count": null,
   "metadata": {},
   "outputs": [],
   "source": [
    "\"\"\"\n",
    "Find the files in a particular AFE framework folder\n",
    "not in Base. Used to identify which dataframes were not processed by a given framework\n",
    "\n",
    "\"\"\"\n",
    "\n",
    "import os\n",
    "\n",
    "dir_basic = r'C:\\Users\\25644574\\OneDrive - UTS\\Desktop\\Updated Codes New\\Data\\BASIC'\n",
    "dir_AFE = r'C:\\Users\\25644574\\OneDrive - UTS\\Desktop\\Updated Codes New\\Data\\AutoFeat'\n",
    "\n",
    "# Get a list of file names in both directories\n",
    "files_basic = set(os.listdir(dir_basic))\n",
    "files_AFE = set(os.listdir(dir_AFE))\n",
    "\n",
    "# Find files that are in BASIC but not in AFE Folder\n",
    "unique_files = files_basic - files_AFE\n",
    "\n",
    "# Print the unique files\n",
    "print(\"Files in BASIC not in AFE Folder:\")\n",
    "for file in unique_files:\n",
    "    print(file)"
   ]
  }
 ],
 "metadata": {
  "kernelspec": {
   "display_name": "Python 3",
   "language": "python",
   "name": "python3"
  },
  "language_info": {
   "codemirror_mode": {
    "name": "ipython",
    "version": 3
   },
   "file_extension": ".py",
   "mimetype": "text/x-python",
   "name": "python",
   "nbconvert_exporter": "python",
   "pygments_lexer": "ipython3",
   "version": "3.13.1"
  }
 },
 "nbformat": 4,
 "nbformat_minor": 2
}
